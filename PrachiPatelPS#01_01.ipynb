{
 "cells": [
  {
   "cell_type": "code",
   "execution_count": 18,
   "id": "58096b69-50d8-4426-843c-ab06f6b9e695",
   "metadata": {},
   "outputs": [
    {
     "name": "stdout",
     "output_type": "stream",
     "text": [
      "the data type of 5 : \n",
      "<class 'int'>\n",
      "the data type of 5.0 \n",
      "<class 'float'>\n",
      "the data type of 5>1 \n",
      "<class 'bool'>\n",
      "the data type of '5' \n",
      "<class 'str'>\n",
      "the data type of 5 * 2 \n",
      "<class 'int'>\n",
      "the data tye of 5 + 2 \n",
      "<class 'int'>\n",
      "the data type of 5 / 2 \n",
      "<class 'float'>\n",
      "the data type of 5 % 2 \n",
      "<class 'int'>\n",
      "the data type of {5,2,1} \n",
      "<class 'set'>\n",
      "the data type of 5 == 3\n",
      "<class 'bool'>\n",
      "the data type of Pi(the number) \n"
     ]
    },
    {
     "ename": "NameError",
     "evalue": "name 'Pi' is not defined",
     "output_type": "error",
     "traceback": [
      "\u001b[1;31m---------------------------------------------------------------------------\u001b[0m",
      "\u001b[1;31mNameError\u001b[0m                                 Traceback (most recent call last)",
      "Input \u001b[1;32mIn [18]\u001b[0m, in \u001b[0;36m<cell line: 23>\u001b[1;34m()\u001b[0m\n\u001b[0;32m     21\u001b[0m \u001b[38;5;28mprint\u001b[39m((\u001b[38;5;28mtype\u001b[39m(\u001b[38;5;241m2\u001b[39m\u001b[38;5;241m==\u001b[39m\u001b[38;5;241m3\u001b[39m)))\n\u001b[0;32m     22\u001b[0m \u001b[38;5;28mprint\u001b[39m(\u001b[38;5;124m\"\u001b[39m\u001b[38;5;124mthe data type of Pi(the number) \u001b[39m\u001b[38;5;124m\"\u001b[39m)\n\u001b[1;32m---> 23\u001b[0m \u001b[38;5;28mprint\u001b[39m((\u001b[38;5;28mtype\u001b[39m(\u001b[43mPi\u001b[49m(\u001b[38;5;241m8\u001b[39m))))\n",
      "\u001b[1;31mNameError\u001b[0m: name 'Pi' is not defined"
     ]
    }
   ],
   "source": [
    "# Que : What data type is each of the following (evaluate where necessary)?\n",
    "print(\"the data type of 5 : \")\n",
    "print((type(5)))\n",
    "print(\"the data type of 5.0 \")\n",
    "print((type(5.0)))\n",
    "print(\"the data type of 5>1 \")\n",
    "print((type(5>4)))\n",
    "print(\"the data type of '5' \")\n",
    "print((type('5')))\n",
    "print(\"the data type of 5 * 2 \")\n",
    "print((type(4*5)))\n",
    "print(\"the data tye of 5 + 2 \")\n",
    "print((type(4+5)))\n",
    "print(\"the data type of 5 / 2 \")\n",
    "print((type(3/5)))\n",
    "print(\"the data type of 5 % 2 \")\n",
    "print((type(3%5)))\n",
    "print(\"the data type of {5,2,1} \")\n",
    "print((type({5,2,1})))\n",
    "print(\"the data type of 5 == 3\")\n",
    "print((type(2==3)))\n",
    "print(\"the data type of Pi(the number) \")\n",
    "print((type(Pi(8))))"
   ]
  },
  {
   "cell_type": "code",
   "execution_count": null,
   "id": "fe37e341-fe35-47d1-836e-4703a38cd1aa",
   "metadata": {},
   "outputs": [],
   "source": []
  },
  {
   "cell_type": "code",
   "execution_count": null,
   "id": "7c0f01f2-98da-4378-8cd1-a7669c952fd6",
   "metadata": {},
   "outputs": [],
   "source": []
  }
 ],
 "metadata": {
  "kernelspec": {
   "display_name": "Python 3 (ipykernel)",
   "language": "python",
   "name": "python3"
  },
  "language_info": {
   "codemirror_mode": {
    "name": "ipython",
    "version": 3
   },
   "file_extension": ".py",
   "mimetype": "text/x-python",
   "name": "python",
   "nbconvert_exporter": "python",
   "pygments_lexer": "ipython3",
   "version": "3.10.4"
  }
 },
 "nbformat": 4,
 "nbformat_minor": 5
}
